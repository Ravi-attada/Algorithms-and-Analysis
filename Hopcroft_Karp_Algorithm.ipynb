{
  "nbformat": 4,
  "nbformat_minor": 0,
  "metadata": {
    "colab": {
      "provenance": [],
      "authorship_tag": "ABX9TyMj8EyQfCXyM3m8DUia/j9q"
    },
    "kernelspec": {
      "name": "python3",
      "display_name": "Python 3"
    },
    "language_info": {
      "name": "python"
    }
  },
  "cells": [
    {
      "cell_type": "code",
      "execution_count": 1,
      "metadata": {
        "colab": {
          "base_uri": "https://localhost:8080/"
        },
        "id": "5OMkN-UgHCwS",
        "outputId": "aa582521-8df6-4f8f-a3ab-c47d5bca6f8e"
      },
      "outputs": [
        {
          "output_type": "stream",
          "name": "stdout",
          "text": [
            "Maximum matching size: 3\n"
          ]
        }
      ],
      "source": [
        "from collections import deque\n",
        "INF =float('inf')\n",
        "NIL = -1\n",
        "def bfs(adj,pair_U,pair_V,dist,m):\n",
        "    queue = deque()\n",
        "    for u in range(m):\n",
        "        if pair_U[u]==NIL:\n",
        "            dist[u]=0\n",
        "            queue.append(u)\n",
        "        else:\n",
        "            dist[u]=INF\n",
        "    found_augmenting_path=False\n",
        "    while queue:\n",
        "        u=queue.popleft()\n",
        "        for v in adj[u]:\n",
        "            if pair_V[v]==NIL:\n",
        "                found_augmenting_path=True\n",
        "            elif dist[pair_V[v]]==INF:\n",
        "                dist[pair_V[v]]=dist[u]+1\n",
        "                queue.append(pair_V[v])\n",
        "    return found_augmenting_path\n",
        "def dfs(u,adj,pair_U,pair_V,dist):\n",
        "    for v in adj[u]:\n",
        "        stmt1 = (pair_V[v])==NIL\n",
        "        stmt2=(dist[pair_V[v]]==dist[u]+1 and dfs(pair_V[v],adj,pair_U,pair_V,dist))\n",
        "        if stmt1 or stmt2:\n",
        "            pair_U[u]=v\n",
        "            pair_V[v]=u\n",
        "            return True\n",
        "    dist[u]=INF\n",
        "    return False\n",
        "def hopcroft_karp(m,n,edges):\n",
        "    adj=[[]for _ in range(m)]\n",
        "    for u,v in edges:\n",
        "        adj[u].append(v)\n",
        "    pair_U = [NIL]*m\n",
        "    pair_V = [NIL]*n\n",
        "    dist = [INF]*m\n",
        "    matching =0\n",
        "    while bfs(adj,pair_U,pair_V,dist,m):\n",
        "        for u in range(m):\n",
        "            if pair_U[u]==NIL and dfs(u,adj,pair_U,pair_V,dist):\n",
        "                matching +=1\n",
        "    return matching\n",
        "\n",
        "#example usage\n",
        "m,n = 3,3\n",
        "edges = [(0,0),(0,1),(1,0),(2,2)]\n",
        "print(\"Maximum matching size:\",hopcroft_karp(m,n,edges))"
      ]
    }
  ]
}